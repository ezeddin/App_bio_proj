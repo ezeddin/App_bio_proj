{
 "cells": [
  {
   "cell_type": "markdown",
   "metadata": {},
   "source": [
    "# Project\n",
    "\n",
    "Before running this, make sure that all prerequisites are installed. This is done by running \n",
    "\n",
    "$ pip install -r requirements.txt\n",
    "\n"
   ]
  },
  {
   "cell_type": "markdown",
   "metadata": {},
   "source": [
    "## Import modules"
   ]
  },
  {
   "cell_type": "code",
   "execution_count": 1,
   "metadata": {
    "collapsed": false
   },
   "outputs": [
    {
     "name": "stderr",
     "output_type": "stream",
     "text": [
      "Using Theano backend.\n"
     ]
    }
   ],
   "source": [
    "import numpy as np\n",
    "import Bio as bio\n",
    "from Bio import SeqIO\n",
    "import random\n",
    "import scipy\n",
    "from hmmlearn import hmm\n",
    "import sklearn\n",
    "from sklearn import cross_validation\n",
    "import os\n",
    "from keras.preprocessing import sequence\n",
    "from keras.models import Sequential\n",
    "from keras.layers import Dense\n",
    "from keras.layers import LSTM\n",
    "from keras.layers.embeddings import Embedding"
   ]
  },
  {
   "cell_type": "code",
   "execution_count": 2,
   "metadata": {
    "collapsed": false
   },
   "outputs": [],
   "source": [
    "np.random.seed(1337)\n"
   ]
  },
  {
   "cell_type": "code",
   "execution_count": 3,
   "metadata": {
    "collapsed": true
   },
   "outputs": [],
   "source": [
    "POSITIVE_TM_PATH = \"../data/training_data/positive_examples/tm\"\n",
    "POSITIVE_NON_TM_PATH = \"../data/training_data/positive_examples/non_tm\"\n",
    "NEGATIVE_TM_PATH = \"../data/training_data/negative_examples/tm\"\n",
    "NEGATIVE_NON_TM_PATH = \"../data/training_data/negative_examples/non_tm\""
   ]
  },
  {
   "cell_type": "code",
   "execution_count": 4,
   "metadata": {
    "collapsed": false
   },
   "outputs": [],
   "source": [
    "positive_tm = [seq for path in os.listdir(POSITIVE_TM_PATH) \n",
    "                       for seq in SeqIO.parse(os.path.join(POSITIVE_TM_PATH, path), \"fasta\")]\n",
    "\n",
    "positive_non_tm = [seq for path in os.listdir(POSITIVE_NON_TM_PATH) \n",
    "                       for seq in SeqIO.parse(os.path.join(POSITIVE_NON_TM_PATH, path), \"fasta\")]\n",
    "\n",
    "negative_tm = [seq for path in os.listdir(NEGATIVE_TM_PATH) \n",
    "                       for seq in SeqIO.parse(os.path.join(NEGATIVE_TM_PATH, path), \"fasta\")]\n",
    "               \n",
    "negative_non_tm = [seq for path in os.listdir(NEGATIVE_NON_TM_PATH) \n",
    "                       for seq in SeqIO.parse(os.path.join(NEGATIVE_NON_TM_PATH, path), \"fasta\")]"
   ]
  },
  {
   "cell_type": "code",
   "execution_count": 5,
   "metadata": {
    "collapsed": false
   },
   "outputs": [
    {
     "name": "stdout",
     "output_type": "stream",
     "text": [
      "positives, tm: 45\n",
      "positives, non_tm: 1275\n",
      "negavtive, tm: 247\n",
      "negavtive, non_tm: 1087\n"
     ]
    }
   ],
   "source": [
    "print(\"positives, tm:\",  len(positive_tm))\n",
    "print(\"positives, non_tm:\",  len(positive_non_tm))\n",
    "print(\"negavtive, tm:\",  len(negative_tm))\n",
    "print(\"negavtive, non_tm:\", len( negative_non_tm))"
   ]
  },
  {
   "cell_type": "code",
   "execution_count": 6,
   "metadata": {
    "collapsed": false
   },
   "outputs": [],
   "source": [
    "positive = positive_tm + positive_non_tm\n",
    "negative = negative_tm + negative_non_tm"
   ]
  },
  {
   "cell_type": "code",
   "execution_count": 7,
   "metadata": {
    "collapsed": false
   },
   "outputs": [],
   "source": [
    "def get_dataset(dataset):\n",
    "    x = np.array([[c for c in str(seq.seq).split('#')[0].strip()] for seq in dataset ])\n",
    "    symbols = { c for seq in x for c in seq}\n",
    "    symbols_map = { s : i for i, s in enumerate(symbols)}\n",
    "    #inv_symbols_map = {v: k for k, v in symbols_map.items()}\n",
    "    x = np.array(list(map(lambda i : list(map(lambda j: symbols_map[j], i)), x)))\n",
    "\n",
    "    y = [[c for c in str(seq.seq).split('#')[1].strip()] for seq in dataset ]\n",
    "    states = { c for seq in y for c in seq}\n",
    "    state_map = { s : i for i, s in enumerate(states)}\n",
    "    #inv_state_map = {v: k for k, v in state_map.items()}\n",
    "    y = np.array(list(map(lambda i : list(map(lambda j: state_map[j], i)), y)))\n",
    "\n",
    "    n_symbols = len(symbols)\n",
    "    n_states = len(states)\n",
    "    X_train_seq, X_test_seq, Y_train, Y_test = cross_validation.train_test_split(x, y, random_state=7, train_size=0.6)\n",
    "\n",
    "    assert len(x) == len(y), \"x:{}, y:{}\".format(len(x), len(y))\n",
    "    return X_train_seq, X_test_seq, Y_train, Y_test, n_states, n_symbols\n"
   ]
  },
  {
   "cell_type": "code",
   "execution_count": 8,
   "metadata": {
    "collapsed": false
   },
   "outputs": [
    {
     "name": "stdout",
     "output_type": "stream",
     "text": [
      "Number of positive samples labeled positive 528, total number of positive 528\n",
      "Number of negative samples labeled negative 152, total number of negative 534\n",
      "precission: 58.02197802197802\n",
      "recal: 100.0\n",
      "accuracy: 64.030131826742\n",
      "avrg positive neg prob: -2.8841293296234594\n",
      "avrg positive pos prob: -1.8246559833753646\n",
      "avrg negative neg prob: -3.372393241005475\n",
      "avrg negative pos prob: -3.4676482583998824\n"
     ]
    }
   ],
   "source": [
    "def hmm_model(X_train_seq, Y_train, n_states, n_symbols):\n",
    "    # Estimate initial matrix\n",
    "    Pi = np.zeros(n_states)\n",
    "    for state_seq in Y_train:\n",
    "        Pi[state_seq[0]] += 1\n",
    "    Pi = Pi/sum(Pi)\n",
    "\n",
    "    # Estimate transition matrix\n",
    "    A = np.zeros((n_states, n_states))\n",
    "    for state_seq in Y_train:\n",
    "        for i in range(len(state_seq)-1):\n",
    "            A[state_seq[i], state_seq[i+1]] += 1\n",
    "\n",
    "    # Normalize transition matrix\n",
    "    for row in range(n_states):\n",
    "        A[row] = A[row]/sum(A[row])\n",
    "\n",
    "    # Estimate emission matrix\n",
    "    B = np.zeros((n_states, n_symbols))\n",
    "    for i, seq in enumerate(X_train_seq):\n",
    "        for j in range(len(seq)):\n",
    "            B[Y_train[i][j], seq[j]] += 1\n",
    "\n",
    "    # Normalize emission matrix\n",
    "    for row in range(n_states):\n",
    "        B[row] = B[row]/sum(B[row])\n",
    "\n",
    "    model = hmm.MultinomialHMM(n_components=n_states)\n",
    "    model.startprob_ = Pi\n",
    "    model.transmat_ = A\n",
    "    model.emissionprob_ = B\n",
    "    return model\n",
    "\n",
    "X_train_seq_p, X_test_seq_p, Y_train_p, Y_test_p, n_states_p, n_symbols_p = get_dataset(positive) \n",
    "positive_model = hmm_model(X_train_seq_p, Y_train_p, n_states_p, n_symbols_p)\n",
    "\n",
    "X_train_seq_n, X_test_seq_n, Y_train_n, Y_test_n, n_states_n, n_symbols_n = get_dataset(negative) \n",
    "negative_model = hmm_model(X_train_seq_n, Y_train_n, n_states_n, n_symbols_n)\n",
    "\n",
    "hit = 0\n",
    "tot = 0\n",
    "\n",
    "p_p_scores = []\n",
    "p_n_scores = []\n",
    "for seq_p in X_test_seq_p:\n",
    "    p_score = positive_model.score(np.asmatrix(seq_p[0]).T)\n",
    "    n_score = negative_model.score(np.asmatrix(seq_p[0]).T)\n",
    "    p_n_scores.append(n_score)\n",
    "    p_p_scores.append(p_score)\n",
    "    if p_score > n_score:\n",
    "        hit += 1\n",
    "    tot += 1\n",
    "print(\"Number of positive samples labeled positive {}, total number of positive {}\".format(hit, tot))\n",
    "\n",
    "\n",
    "hit_neg = 0\n",
    "tot_neg = 0\n",
    "\n",
    "n_p_scores = []\n",
    "n_n_scores = []\n",
    "for seq_n in X_test_seq_n:\n",
    "    p_score = positive_model.score(np.asmatrix(seq_n[0]).T)\n",
    "    n_score = negative_model.score(np.asmatrix(seq_n[0]).T)\n",
    "    n_n_scores.append(n_score)\n",
    "    n_p_scores.append(p_score)\n",
    "    if p_score < n_score:\n",
    "        hit_neg += 1\n",
    "    tot_neg += 1\n",
    "print(\"Number of negative samples labeled negative {}, total number of negative {}\".format(hit_neg, tot_neg))\n",
    "\n",
    "\n",
    "print(\"precission: {}\".format((hit)*100 /(hit+tot_neg-hit_neg)))\n",
    "print(\"recal: {}\".format(float(hit)*100/tot))\n",
    "print(\"accuracy: {}\".format((hit + hit_neg)*100 /((tot + tot_neg)) ))\n",
    "\n",
    "print(\"avrg positive neg prob: {}\".format(np.array(p_n_scores).mean()))\n",
    "print(\"avrg positive pos prob: {}\".format(np.array(p_p_scores).mean()))\n",
    "print(\"avrg negative neg prob: {}\".format(np.array(n_n_scores).mean()))\n",
    "print(\"avrg negative pos prob: {}\".format(np.array(n_p_scores).mean()))"
   ]
  },
  {
   "cell_type": "code",
   "execution_count": 10,
   "metadata": {
    "collapsed": false
   },
   "outputs": [
    {
     "data": {
      "text/plain": [
       "1"
      ]
     },
     "execution_count": 10,
     "metadata": {},
     "output_type": "execute_result"
    }
   ],
   "source": [
    "int(True)"
   ]
  },
  {
   "cell_type": "code",
   "execution_count": 11,
   "metadata": {
    "collapsed": false
   },
   "outputs": [
    {
     "data": {
      "text/plain": [
       "0"
      ]
     },
     "execution_count": 11,
     "metadata": {},
     "output_type": "execute_result"
    }
   ],
   "source": [
    "int(False)"
   ]
  },
  {
   "cell_type": "code",
   "execution_count": 15,
   "metadata": {
    "collapsed": false
   },
   "outputs": [
    {
     "name": "stdout",
     "output_type": "stream",
     "text": [
      "yahoo\n"
     ]
    }
   ],
   "source": [
    "if 5:\n",
    "    print(\"yahoo\")"
   ]
  },
  {
   "cell_type": "code",
   "execution_count": null,
   "metadata": {
    "collapsed": true
   },
   "outputs": [],
   "source": []
  }
 ],
 "metadata": {
  "kernelspec": {
   "display_name": "Python 3",
   "language": "python",
   "name": "python3"
  },
  "language_info": {
   "codemirror_mode": {
    "name": "ipython",
    "version": 3
   },
   "file_extension": ".py",
   "mimetype": "text/x-python",
   "name": "python",
   "nbconvert_exporter": "python",
   "pygments_lexer": "ipython3",
   "version": "3.5.2"
  }
 },
 "nbformat": 4,
 "nbformat_minor": 1
}
