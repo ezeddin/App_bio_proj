{
 "cells": [
  {
   "cell_type": "markdown",
   "metadata": {},
   "source": [
    "## Import modules"
   ]
  },
  {
   "cell_type": "code",
   "execution_count": 46,
   "metadata": {
    "collapsed": false
   },
   "outputs": [],
   "source": [
    "import os\n",
    "import sklearn\n",
    "import Bio as bio\n",
    "import numpy as np\n",
    "from Bio import SeqIO\n",
    "from hmmlearn import hmm\n",
    "from sklearn import cross_validation"
   ]
  },
  {
   "cell_type": "code",
   "execution_count": 47,
   "metadata": {
    "collapsed": false
   },
   "outputs": [],
   "source": [
    "SEED = 1337\n",
    "np.random.seed(SEED)\n"
   ]
  },
  {
   "cell_type": "code",
   "execution_count": 48,
   "metadata": {
    "collapsed": true
   },
   "outputs": [],
   "source": [
    "POSITIVE_TM_PATH = \"../data/training_data/positive_examples/tm.fa\"\n",
    "POSITIVE_NON_TM_PATH = \"../data/training_data/positive_examples/non_tm.fa\"\n",
    "NEGATIVE_TM_PATH = \"../data/training_data/negative_examples/tm.fa\"\n",
    "NEGATIVE_NON_TM_PATH = \"../data/training_data/negative_examples/non_tm.fa\"\n",
    "\n",
    "all_paths = [POSITIVE_TM_PATH, POSITIVE_NON_TM_PATH, NEGATIVE_TM_PATH, NEGATIVE_NON_TM_PATH]"
   ]
  },
  {
   "cell_type": "code",
   "execution_count": 49,
   "metadata": {
    "collapsed": false
   },
   "outputs": [],
   "source": [
    "def clean_sequences(sequences):\n",
    "    for seq in sequences:\n",
    "        seq.seq = bio.Seq.Seq(str(seq.seq).split(\"#\")[0].strip(), seq.seq.alphabet)\n",
    "        \n",
    "def get_clean_and_save(path):\n",
    "    data = [seq for seq in SeqIO.parse(path, \"fasta\")]\n",
    "    clean_sequences(data)\n",
    "    with open(path, 'w') as f:\n",
    "        SeqIO.write(data, f, 'fasta')\n",
    "        \n",
    "for path in all_paths:\n",
    "    get_clean_and_save(path)"
   ]
  },
  {
   "cell_type": "code",
   "execution_count": null,
   "metadata": {
    "collapsed": true
   },
   "outputs": [],
   "source": []
  },
  {
   "cell_type": "code",
   "execution_count": null,
   "metadata": {
    "collapsed": true
   },
   "outputs": [],
   "source": []
  }
 ],
 "metadata": {
  "kernelspec": {
   "display_name": "Python 3",
   "language": "python",
   "name": "python3"
  },
  "language_info": {
   "codemirror_mode": {
    "name": "ipython",
    "version": 3
   },
   "file_extension": ".py",
   "mimetype": "text/x-python",
   "name": "python",
   "nbconvert_exporter": "python",
   "pygments_lexer": "ipython3",
   "version": "3.5.1"
  }
 },
 "nbformat": 4,
 "nbformat_minor": 1
}
