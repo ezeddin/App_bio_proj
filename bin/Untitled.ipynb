{
 "cells": [
  {
   "cell_type": "markdown",
   "metadata": {},
   "source": [
    "# Project\n",
    "\n",
    "Before running this, make sure that all prerequisites are installed. This is done by running \n",
    "\n",
    "$ pip install -r requirements.txt\n",
    "\n"
   ]
  },
  {
   "cell_type": "markdown",
   "metadata": {},
   "source": [
    "Import modules"
   ]
  },
  {
   "cell_type": "code",
   "execution_count": 19,
   "metadata": {
    "collapsed": false
   },
   "outputs": [],
   "source": [
    "import numpy as np\n",
    "import Bio as bio\n",
    "from Bio import SeqIO\n",
    "import random\n",
    "import scipy\n",
    "import os"
   ]
  },
  {
   "cell_type": "code",
   "execution_count": 20,
   "metadata": {
    "collapsed": false
   },
   "outputs": [],
   "source": [
    "random.seed(1337)\n"
   ]
  },
  {
   "cell_type": "code",
   "execution_count": 21,
   "metadata": {
    "collapsed": true
   },
   "outputs": [],
   "source": [
    "POSITIVE_TM_PATH = \"../data/training_data/positive_examples/tm\"\n",
    "POSITIVE_NON_TM_PATH = \"../data/training_data/positive_examples/non_tm\"\n",
    "NEGATIVE_TM_PATH = \"../data/training_data/negative_examples/tm\"\n",
    "NEGATIVE_NON_TM_PATH = \"../data/training_data/negative_examples/non_tm\""
   ]
  },
  {
   "cell_type": "code",
   "execution_count": 26,
   "metadata": {
    "collapsed": false
   },
   "outputs": [],
   "source": [
    "positive_tm = [seq for path in os.listdir(POSITIVE_TM_PATH) \n",
    "                       for seq in SeqIO.parse(os.path.join(POSITIVE_TM_PATH, path), \"fasta\")]\n",
    "\n",
    "positive_non_tm = [seq for path in os.listdir(POSITIVE_NON_TM_PATH) \n",
    "                       for seq in SeqIO.parse(os.path.join(POSITIVE_TM_PATH, path), \"fasta\")]\n",
    "\n",
    "negative_tm = [seq for path in os.listdir(NEGATIVE_TM_PATH) \n",
    "               \n",
    "negative_non_tm = [seq for path in os.listdir(NEGATIVE_NON_TM_PATH) \n",
    "                       for seq in SeqIO.parse(os.path.join(POSITIVE_TM_PATH, path), \"fasta\")]"
   ]
  },
  {
   "cell_type": "code",
   "execution_count": 11,
   "metadata": {
    "collapsed": true
   },
   "outputs": [],
   "source": [
    "a = [a for i in range(10) for a in range(i)]"
   ]
  },
  {
   "cell_type": "code",
   "execution_count": 27,
   "metadata": {
    "collapsed": false
   },
   "outputs": [
    {
     "data": {
      "text/plain": [
       "[SeqRecord(seq=Seq('MSRQSISLRFPLLLLLLSPSPVFSADPGAPAPVNPCCYYPCQHQGICVRFGLDR...OOO', SingleLetterAlphabet()), id='PGH1_SHEEP', name='PGH1_SHEEP', description='PGH1_SHEEP P05979 600 AA.', dbxrefs=[]),\n",
       " SeqRecord(seq=Seq('MDLWQLLLTLALAGSSDAFSGSEATAAILSRAPWSLQSVNPGLKTNSSKEPKFT...iii', SingleLetterAlphabet()), id='GHR_HUMAN', name='GHR_HUMAN', description='GHR_HUMAN P10912 638 AA.', dbxrefs=[]),\n",
       " SeqRecord(seq=Seq('MLLFVLTCLLAVFPAISTKSPIFGPEEVNSVEGNSVSITCYYPPTSVNRHTRKY...iii', SingleLetterAlphabet()), id='PIGR_HUMAN', name='PIGR_HUMAN', description='PIGR_HUMAN P01833; 764 AA.', dbxrefs=[]),\n",
       " SeqRecord(seq=Seq('MKFSLAVSFFILMSLLFEDACSKEKSSKKGKGKKKQYLCPSQQSAEDLARVPPN...MMo', SingleLetterAlphabet()), id='GRB_RAT', name='GRB_RAT', description='GRB_RAT P20781; 496 AA.', dbxrefs=[]),\n",
       " SeqRecord(seq=Seq('MRTDWNFFFCILLQAIFVVGTQTSRTLVLYDQSTEPLEEYSVYLKDLEQRNYKL...iii', SingleLetterAlphabet()), id='OSTB_YEAST', name='OSTB_YEAST', description='OSTB_YEAST P33767 430 AA.', dbxrefs=[]),\n",
       " SeqRecord(seq=Seq('MARASLIQPGLWALLLLQAVGPAVAAKLNIPKVLLPFTRATRVNFTLEASEGCY...iii', SingleLetterAlphabet()), id='GP21_RAT', name='GP21_RAT', description='GP21_RAT P11654 1886 AA.', dbxrefs=[]),\n",
       " SeqRecord(seq=Seq('MGAGATGRAMDGPRLLLLLLLGVSLGGAKEACPTGLYTHSGECCKACNLGEGVA...iii', SingleLetterAlphabet()), id='TR16_HUMAN', name='TR16_HUMAN', description='TR16_HUMAN P08138; 427 AA.', dbxrefs=[]),\n",
       " SeqRecord(seq=Seq('MEKEKKVKYFLRKSAFGLASVSAAFLVGSTVFAVDSPIEDTPIIRNGGELTNLL...iii', SingleLetterAlphabet()), id='SPG1_STRSP', name='SPG1_STRSP', description='SPG1_STRSP P06654; 448 AA.', dbxrefs=[]),\n",
       " SeqRecord(seq=Seq('MGRRVPALRQLLVLAVLLLKPSQLQSRELSGSRCPEPCDCAPDGALRCPGPRAG...iii', SingleLetterAlphabet()), id='LSHR_RAT', name='LSHR_RAT', description='LSHR_RAT P16235, 700 AA.', dbxrefs=[]),\n",
       " SeqRecord(seq=Seq('MGAMAPRTLLLLLAAALGPTQTRAGSHSLRYFVTAVSRPGFGEPRYMEVGYVDN...iii', SingleLetterAlphabet()), id='HA12_MOUSE', name='HA12_MOUSE', description='HA12_MOUSE P01900 365 AA.', dbxrefs=[]),\n",
       " SeqRecord(seq=Seq('MAPGAPSSSPSPILAVLLFSSLVLSPAQAIVVYTDREVHGAVGSRVTLHCSFWS...iii', SingleLetterAlphabet()), id='MYP0_HUMAN', name='MYP0_HUMAN', description='MYP0_HUMAN P25189; 248 AA.', dbxrefs=[]),\n",
       " SeqRecord(seq=Seq('MDSYLLMWGLLTFIMVPGCQAELCDDDPPEIPHATFKAMAYKEGTMLNCECKRG...iii', SingleLetterAlphabet()), id='IL2A_HUMAN', name='IL2A_HUMAN', description='IL2A_HUMAN P01589; 272 AA.', dbxrefs=[]),\n",
       " SeqRecord(seq=Seq('MRPSGTAGAALLALLAALCPASRALEEKKVCQGTSNKLTQLGTFEDHFLSLQRM...iii', SingleLetterAlphabet()), id='EGFR_HUMAN', name='EGFR_HUMAN', description='EGFR_HUMAN P00533; O00688; 1210 AA.', dbxrefs=[]),\n",
       " SeqRecord(seq=Seq('MLLRRRNGPCPFPLLLLLLAHCICIWPASAARDRYARQNNRQRHQDIDRDRDRD...iii', SingleLetterAlphabet()), id='EGFR_DROME', name='EGFR_DROME', description='EGFR_DROME P04412; 1426 AA.', dbxrefs=[]),\n",
       " SeqRecord(seq=Seq('MFPFYSCWRTGLLLLLLAVAVRESWQTEEKTCDLVGEKGKESEKELALVKRLKP...iii', SingleLetterAlphabet()), id='MPRD_HUMAN', name='MPRD_HUMAN', description='MPRD_HUMAN P20645; 277 AA.', dbxrefs=[]),\n",
       " SeqRecord(seq=Seq('MAAPALSWRLPLLILLLPLATSWASAAVNGTSQFTCFYNSRANISCVWSQDGAL...iii', SingleLetterAlphabet()), id='IL2B_HUMAN', name='IL2B_HUMAN', description='IL2B_HUMAN P14784; 551 AA.', dbxrefs=[]),\n",
       " SeqRecord(seq=Seq('MKSGSGGGSPTSLWGLLFLSAALSLWPTSGEICGPGIDIRNDYQQLKRLENCTV...iii', SingleLetterAlphabet()), id='IG1R_HUMAN', name='IG1R_HUMAN', description='IG1R_HUMAN P08069; 1367 AA.', dbxrefs=[]),\n",
       " SeqRecord(seq=Seq('MGLPGVIPALVLRGQLLLSVLWLLGPQTSRGLVITPPGPEFVLNISSTFVLTCS...iii', SingleLetterAlphabet()), id='PGDR_MOUSE', name='PGDR_MOUSE', description='PGDR_MOUSE P05622 1098 AA.', dbxrefs=[]),\n",
       " SeqRecord(seq=Seq('MIFLATLPLFWIMISASRGGHWGAWMPSTISAFEGTCVSIPCRFDFPDELRPAV...iii', SingleLetterAlphabet()), id='MAG_MOUSE', name='MAG_MOUSE', description='MAG_MOUSE P20917; 626 AA.', dbxrefs=[]),\n",
       " SeqRecord(seq=Seq('MGSWTPRSPRSPLHAVLLRWGPRRLPPLLPLLLLLWPPPLQVGGFNLDAEAPAV...iii', SingleLetterAlphabet()), id='ITA5_MOUSE', name='ITA5_MOUSE', description='ITA5_MOUSE P11688; 1053 AA.', dbxrefs=[]),\n",
       " SeqRecord(seq=Seq('MARALCRLPRRGLWLLLAHHLFMTTACQEANYGALLRELCLTQFQVDMEAVGET...iii', SingleLetterAlphabet()), id='RMP1_HUMAN', name='RMP1_HUMAN', description='RMP1_HUMAN O60894 148 AA.', dbxrefs=[]),\n",
       " SeqRecord(seq=Seq('MKFTVTFLLIICTLSAFCSPTSKPQRHISCRFTRIWNIPSCYNEKSDLSEAWLY...iii', SingleLetterAlphabet()), id='E315_ADE05', name='E315_ADE05', description='E315_ADE05 P06498 132 AA.', dbxrefs=[]),\n",
       " SeqRecord(seq=Seq('MEAPIVLLLLLWLALAPTPGSASSEAPPLVNEDVKRTVDLSSHLAKVTAEVVLA...iii', SingleLetterAlphabet()), id='RIB1_RAT', name='RIB1_RAT', description='RIB1_RAT P07153; 605 AA.', dbxrefs=[]),\n",
       " SeqRecord(seq=Seq('MGSGPRGALSLLLLLLAPPSRPAAGCPAPCSCAGTLVDCGRRGLTWASLPTAFP...iii', SingleLetterAlphabet()), id='GPBB_HUMAN', name='GPBB_HUMAN', description='GPBB_HUMAN P13224; 206 AA.', dbxrefs=[]),\n",
       " SeqRecord(seq=Seq('MRLCIPQVLLALFLSMLTAPGEGSRRRATQEDTTQPALLRLSDHLLANYKKGVR...ooo', SingleLetterAlphabet()), id='5HT3_MOUSE', name='5HT3_MOUSE', description='5HT3_MOUSE P23979; 487 AA.', dbxrefs=[]),\n",
       " SeqRecord(seq=Seq('METGALRRPQLLPLLLLLCGGCPRAGGCNETGMLERLPLCGKAFADMMGKVDVW...iii', SingleLetterAlphabet()), id='RMP3_HUMAN', name='RMP3_HUMAN', description='RMP3_HUMAN O60896 148 AA.', dbxrefs=[]),\n",
       " SeqRecord(seq=Seq('MIPRVLILLTLVALFCACSTLAAVAHIEVDCIPPFTVYLLYGFVTLILICSLVT...iii', SingleLetterAlphabet()), id='E310_ADE02', name='E310_ADE02', description='E310_ADE02 P15133 91 AA.', dbxrefs=[]),\n",
       " SeqRecord(seq=Seq('MLGVLVLGALALAGLGFPAPAEPQPGGSQCVEHDCFALYPGPATFLNASQICDG...iii', SingleLetterAlphabet()), id='TRBM_HUMAN', name='TRBM_HUMAN', description='TRBM_HUMAN P07204; 575 AA.', dbxrefs=[]),\n",
       " SeqRecord(seq=Seq('MLLLVTSLLLCELPHPAFLLIPEKSDLRTVAPASSLNVRFDSRTMNLSWDCQEN...iii', SingleLetterAlphabet()), id='GMCR_HUMAN', name='GMCR_HUMAN', description='GMCR_HUMAN P15509; 400 AA.', dbxrefs=[]),\n",
       " SeqRecord(seq=Seq('MLPGLALLLLAAWTARALEVPTDGNAGLLAEPQIAMFCGRLNMHMNVQNGKWDS...iii', SingleLetterAlphabet()), id='A4_HUMAN', name='A4_HUMAN', description='A4_HUMAN P05067; 770 AA.', dbxrefs=[]),\n",
       " SeqRecord(seq=Seq('MPLRKMKIPFLLLFFLWEAESHAASRPNIILVMADDLGIGDPGCYGNKTIRTPN...OOO', SingleLetterAlphabet()), id='STS_HUMAN', name='STS_HUMAN', description='STS_HUMAN P08842 583 AA.', dbxrefs=[]),\n",
       " SeqRecord(seq=Seq('MAQRIFTLILLLCSTSVFAGLFDAPGRSQFVPADQAFAFDFQQNQHDLNLTWQI...OOO', SingleLetterAlphabet()), id='DSBD_ECOLI', name='DSBD_ECOLI', description='DSBD_ECOLI P36655, 565 AA.', dbxrefs=[]),\n",
       " SeqRecord(seq=Seq('MAGPPRLLLLPLLLALARGLPGALAAQEVQQSPHCTTVPVGASVNITCSTSGGL...iii', SingleLetterAlphabet()), id='CD7_HUMAN', name='CD7_HUMAN', description='CD7_HUMAN P09564 240 AA.', dbxrefs=[]),\n",
       " SeqRecord(seq=Seq('MPYIFAFFCTGFLGAVVGANFPNNIQIGGLFPNQQSQEHAAFRFALSQLTEPPK...ooo', SingleLetterAlphabet()), id='GLR1_RAT', name='GLR1_RAT', description='GLR1_RAT P19490; 907 AA.', dbxrefs=[]),\n",
       " SeqRecord(seq=Seq('MMAIATKRRGVAAVMSLGVATMTAVPALAQDVLGDLPVIGKPVNGGMNFQPASS...OOO', SingleLetterAlphabet()), id='COX2_PARDE', name='COX2_PARDE', description='COX2_PARDE P08306; 298 AA.', dbxrefs=[]),\n",
       " SeqRecord(seq=Seq('MALLFLLPLVMQGVSRAEMGTADLGPSSVPTPTNVTIESYNMNPIVYWEYQIMP...iii', SingleLetterAlphabet()), id='INGR_HUMAN', name='INGR_HUMAN', description='INGR_HUMAN P15260; 489 AA.', dbxrefs=[]),\n",
       " SeqRecord(seq=Seq('MKAMKQRIAKFSPVASFRNLCIAGSVTAATSLPAFAGVIDTSAVESAITDGQGD...iii', SingleLetterAlphabet()), id='COAB_BPPF1', name='COAB_BPPF1', description='COAB_BPPF1 P03621 82 AA.', dbxrefs=[]),\n",
       " SeqRecord(seq=Seq('MKKSLVLKASVAVATLVPMLSFAAEGDDPAKAAFDSLQASATEYIGYAWAMVVV...iii', SingleLetterAlphabet()), id='COAB_BPFD', name='COAB_BPFD', description='COAB_BPFD P03617 73 AA.', dbxrefs=[]),\n",
       " SeqRecord(seq=Seq('MYGKIIFVLLLSAIVSISASSTTGVAMHTSTSSSVTKSYISSQTNDTHKRDTYA...iii', SingleLetterAlphabet()), id='GLPA_HUMAN', name='GLPA_HUMAN', description='GLPA_HUMAN P02724; 150 AA.', dbxrefs=[]),\n",
       " SeqRecord(seq=Seq('MRLRKYNKSLGWLSLFAGTVLLSGCNSALLDPKGQIGLEQRSLILTAFGLMLIV...OOO', SingleLetterAlphabet()), id='CYOA_ECOLI', name='CYOA_ECOLI', description='CYOA_ECOLI P18400; 315 AA.', dbxrefs=[]),\n",
       " SeqRecord(seq=Seq('MGSGKVFLFSPSLLWSQTRGVRLIFLLLTLHLGNCIDKADDEDDEDLTMNKTWV...MMo', SingleLetterAlphabet()), id='GAC1_RAT', name='GAC1_RAT', description='GAC1_RAT P23574; 465 AA.', dbxrefs=[]),\n",
       " SeqRecord(seq=Seq('MVSAKKVPAIAMSFGVSFALLHFLCLAACLNESPGQNQKEEKLCPENFTRILDS...ooo', SingleLetterAlphabet()), id='GAA4_BOVIN', name='GAA4_BOVIN', description='GAA4_BOVIN P20237; 556 AA.', dbxrefs=[]),\n",
       " SeqRecord(seq=Seq('MDVLGWLLLPLLLLCTQPHHGARAMNDIGDYVGSNLEISWLPNLDGLMEGYARN...MMo', SingleLetterAlphabet()), id='GAD_MOUSE', name='GAD_MOUSE', description='GAD_MOUSE P22933; 449 AA.', dbxrefs=[]),\n",
       " SeqRecord(seq=Seq('MWGIIVPFFSASLMCSLVAVVRCQQDTDHFANVTNTIDSLLKGYDIRLRPSFGG...MMo', SingleLetterAlphabet()), id='GAB_LYMST', name='GAB_LYMST', description='GAB_LYMST P26714; 499 AA.', dbxrefs=[]),\n",
       " SeqRecord(seq=Seq('MPYFTRLILFLFCLMVLVESRKPKRKRWTGQVEMPKPSHLYKKNLDVTKIRKGK...MMo', SingleLetterAlphabet()), id='GAR2_HUMAN', name='GAR2_HUMAN', description='GAR2_HUMAN P28476; 465 AA.', dbxrefs=[])]"
      ]
     },
     "execution_count": 27,
     "metadata": {},
     "output_type": "execute_result"
    }
   ],
   "source": [
    "positive_tm\n"
   ]
  },
  {
   "cell_type": "code",
   "execution_count": null,
   "metadata": {
    "collapsed": true
   },
   "outputs": [],
   "source": []
  }
 ],
 "metadata": {
  "kernelspec": {
   "display_name": "Python 2",
   "language": "python",
   "name": "python2"
  },
  "language_info": {
   "codemirror_mode": {
    "name": "ipython",
    "version": 2
   },
   "file_extension": ".py",
   "mimetype": "text/x-python",
   "name": "python",
   "nbconvert_exporter": "python",
   "pygments_lexer": "ipython2",
   "version": "2.7.10"
  }
 },
 "nbformat": 4,
 "nbformat_minor": 1
}
