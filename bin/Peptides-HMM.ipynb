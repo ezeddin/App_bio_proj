{
 "cells": [
  {
   "cell_type": "markdown",
   "metadata": {},
   "source": [
    "# Project\n",
    "\n",
    "Before running this, make sure that all prerequisites are installed. This is done by running \n",
    "\n",
    "$ pip install -r requirements.txt\n",
    "\n"
   ]
  },
  {
   "cell_type": "markdown",
   "metadata": {},
   "source": [
    "## Import modules"
   ]
  },
  {
   "cell_type": "code",
   "execution_count": 1,
   "metadata": {
    "collapsed": false
   },
   "outputs": [],
   "source": [
    "import os\n",
    "import sklearn\n",
    "import Bio as bio\n",
    "import numpy as np\n",
    "from Bio import SeqIO\n",
    "from hmmlearn import hmm\n",
    "from sklearn import cross_validation"
   ]
  },
  {
   "cell_type": "code",
   "execution_count": 2,
   "metadata": {
    "collapsed": false
   },
   "outputs": [],
   "source": [
    "SEED = 1337\n",
    "np.random.seed(SEED)\n"
   ]
  },
  {
   "cell_type": "code",
   "execution_count": 3,
   "metadata": {
    "collapsed": true
   },
   "outputs": [],
   "source": [
    "POSITIVE_TM_PATH = \"../data/training_data/positive_examples/tm\"\n",
    "POSITIVE_NON_TM_PATH = \"../data/training_data/positive_examples/non_tm\"\n",
    "NEGATIVE_TM_PATH = \"../data/training_data/negative_examples/tm\"\n",
    "NEGATIVE_NON_TM_PATH = \"../data/training_data/negative_examples/non_tm\""
   ]
  },
  {
   "cell_type": "code",
   "execution_count": 4,
   "metadata": {
    "collapsed": false
   },
   "outputs": [],
   "source": [
    "positive_tm = [seq for path in os.listdir(POSITIVE_TM_PATH) \n",
    "                       for seq in SeqIO.parse(os.path.join(POSITIVE_TM_PATH, path), \"fasta\")]\n",
    "\n",
    "positive_non_tm = [seq for path in os.listdir(POSITIVE_NON_TM_PATH) \n",
    "                       for seq in SeqIO.parse(os.path.join(POSITIVE_NON_TM_PATH, path), \"fasta\")]\n",
    "\n",
    "negative_tm = [seq for path in os.listdir(NEGATIVE_TM_PATH) \n",
    "                       for seq in SeqIO.parse(os.path.join(NEGATIVE_TM_PATH, path), \"fasta\")]\n",
    "               \n",
    "negative_non_tm = [seq for path in os.listdir(NEGATIVE_NON_TM_PATH) \n",
    "                       for seq in SeqIO.parse(os.path.join(NEGATIVE_NON_TM_PATH, path), \"fasta\")]"
   ]
  },
  {
   "cell_type": "code",
   "execution_count": 5,
   "metadata": {
    "collapsed": false
   },
   "outputs": [
    {
     "name": "stdout",
     "output_type": "stream",
     "text": [
      "positives, tm: 45\n",
      "positives, non_tm: 1275\n",
      "negavtive, tm: 247\n",
      "negavtive, non_tm: 1087\n"
     ]
    }
   ],
   "source": [
    "print(\"positives, tm:\",  len(positive_tm))\n",
    "print(\"positives, non_tm:\",  len(positive_non_tm))\n",
    "print(\"negavtive, tm:\",  len(negative_tm))\n",
    "print(\"negavtive, non_tm:\", len( negative_non_tm))"
   ]
  },
  {
   "cell_type": "code",
   "execution_count": 6,
   "metadata": {
    "collapsed": false
   },
   "outputs": [],
   "source": [
    "positive = positive_tm + positive_non_tm\n",
    "negative = negative_tm + negative_non_tm"
   ]
  },
  {
   "cell_type": "code",
   "execution_count": 46,
   "metadata": {
    "collapsed": false
   },
   "outputs": [],
   "source": [
    "def encode_data(x, symbols_map=False):\n",
    "    \n",
    "    symbols = { c for seq in x for c in seq}\n",
    "    symbols.update('*')\n",
    "    if not symbols_map:\n",
    "        symbols_map = { s : i for i, s in enumerate(symbols)}\n",
    "    encoded_data = []\n",
    "    for seq in x:\n",
    "        seq_encoded = []\n",
    "        for c in seq:\n",
    "            try:\n",
    "                i = symbols_map[c]\n",
    "            except KeyError:\n",
    "                i = symbols_map['*']\n",
    "            seq_encoded.append(i) \n",
    "        encoded_data.append(seq_encoded)\n",
    "    encoded_data = np.array(encoded_data) \n",
    "            \n",
    "    n_symbols = len(symbols)\n",
    "\n",
    "    return encoded_data, n_symbols, symbols_map\n",
    "\n",
    "def train_and_test_encode(dataset, labels):\n",
    "    x = [[c for c in str(seq.seq).split('#')[0].strip()] for seq in dataset]\n",
    "    x_e, n_symbols, symbols_map = encode_data(x)\n",
    "    z = [[c for c in str(seq.seq).split('#')[1].strip()] for seq in dataset]\n",
    "    z_e, n_states, states_map = encode_data(z)\n",
    "    \n",
    "    X_train, X_test, Z_train, Z_test, train_labels, test_labels = \\\n",
    "        cross_validation.train_test_split(x_e, z_e, labels, random_state=SEED, train_size=.9)\n",
    "    return X_train, X_test, Z_train, Z_test, train_labels, test_labels, n_symbols, n_states, symbols_map, states_map\n",
    "    \n",
    "    "
   ]
  },
  {
   "cell_type": "code",
   "execution_count": 47,
   "metadata": {
    "collapsed": true
   },
   "outputs": [],
   "source": [
    "def hmm_model(X_train_seq, Y_train, n_states, n_symbols):\n",
    "    \n",
    "    ε = 1e-10\n",
    "    \n",
    "    # Estimate initial matrix\n",
    "    Pi = np.zeros(n_states) + ε\n",
    "    for state_seq in Y_train:\n",
    "        Pi[state_seq[0]] += 1\n",
    "    Pi = Pi/sum(Pi)\n",
    "\n",
    "    # Estimate transition matrix\n",
    "    A = np.zeros((n_states, n_states)) + ε\n",
    "    for state_seq in Y_train:\n",
    "        for i in range(len(state_seq)-1):\n",
    "            A[state_seq[i], state_seq[i+1]] += 1\n",
    "\n",
    "    # Normalize transition matrix\n",
    "    for row in range(n_states):\n",
    "        A[row] = A[row]/sum(A[row])\n",
    "\n",
    "    # Estimate emission matrix\n",
    "    B = np.zeros((n_states, n_symbols)) + ε\n",
    "    for i, seq in enumerate(X_train_seq):\n",
    "        for j in range(len(seq)):\n",
    "            B[Y_train[i][j], seq[j]] += 1\n",
    "\n",
    "    # Normalize emission matrix\n",
    "    for row in range(n_states):\n",
    "        B[row] = B[row]/sum(B[row])\n",
    "    \n",
    "    model = hmm.MultinomialHMM(n_components=n_states)\n",
    "    model.startprob_ = Pi\n",
    "    model.transmat_ = A\n",
    "    model.emissionprob_ = B\n",
    "    \n",
    "    return model"
   ]
  },
  {
   "cell_type": "markdown",
   "metadata": {},
   "source": [
    "## Train model"
   ]
  },
  {
   "cell_type": "code",
   "execution_count": 48,
   "metadata": {
    "collapsed": false
   },
   "outputs": [
    {
     "data": {
      "text/plain": [
       "22"
      ]
     },
     "execution_count": 48,
     "metadata": {},
     "output_type": "execute_result"
    }
   ],
   "source": [
    "dataset = np.array(positive + negative)\n",
    "labels = np.array([1]*len(positive) + [0]*len(negative))\n",
    "\n",
    "X_train, X_test, Z_train, Z_test, train_labels, test_labels, n_symbols, n_states, symbols_map, states_map = train_and_test_encode(dataset, labels)\n",
    "model = hmm_model(X_train, Z_train, n_states, n_symbols)\n",
    "\n",
    "n_symbols"
   ]
  },
  {
   "cell_type": "markdown",
   "metadata": {},
   "source": [
    "## Evaluate model"
   ]
  },
  {
   "cell_type": "code",
   "execution_count": 49,
   "metadata": {
    "collapsed": false
   },
   "outputs": [
    {
     "name": "stdout",
     "output_type": "stream",
     "text": [
      "Accuracy on test data: 92.11%\n"
     ]
    }
   ],
   "source": [
    "def evaluate(model, test_set, test_labels, states_map):\n",
    "    hit = 0\n",
    "    tot = 0\n",
    "    for i, seq in enumerate(test_set):\n",
    "        if test_labels[i] == 1:\n",
    "            if states_map['C'] in model.predict(np.asmatrix(seq).T):\n",
    "                hit += 1\n",
    "        else:\n",
    "            if states_map['C'] not in model.predict(np.asmatrix(seq).T):\n",
    "                hit += 1\n",
    "        tot += 1\n",
    "    print(\"Accuracy on test data: {:.4}%\".format(float(hit)*100/tot))\n",
    "evaluate(model, X_test, test_labels, states_map)"
   ]
  },
  {
   "cell_type": "markdown",
   "metadata": {
    "collapsed": true
   },
   "source": [
    "## Import proteomes"
   ]
  },
  {
   "cell_type": "code",
   "execution_count": 71,
   "metadata": {
    "collapsed": false
   },
   "outputs": [],
   "source": [
    "HUMAN_PROTEOMS_PATH = \"../data/proteomes/human.fa\""
   ]
  },
  {
   "cell_type": "code",
   "execution_count": 72,
   "metadata": {
    "collapsed": true
   },
   "outputs": [],
   "source": [
    "human_data = [seq for seq in SeqIO.parse(HUMAN_PROTEOMS_PATH, \"fasta\")]"
   ]
  },
  {
   "cell_type": "code",
   "execution_count": 73,
   "metadata": {
    "collapsed": false
   },
   "outputs": [],
   "source": [
    "x, n_symbols, _ = encode_data(human_data, symbols_map)\n"
   ]
  },
  {
   "cell_type": "code",
   "execution_count": 74,
   "metadata": {
    "collapsed": false
   },
   "outputs": [
    {
     "data": {
      "text/plain": [
       "33"
      ]
     },
     "execution_count": 74,
     "metadata": {},
     "output_type": "execute_result"
    }
   ],
   "source": [
    "n_symbols"
   ]
  },
  {
   "cell_type": "code",
   "execution_count": 75,
   "metadata": {
    "collapsed": true
   },
   "outputs": [],
   "source": [
    "def predict(model, test_set, states_map):\n",
    "    res = []\n",
    "    for seq in test_set:\n",
    "        if states_map['C'] in model.predict(np.asmatrix(seq).T):\n",
    "            res.append(1)\n",
    "        else:\n",
    "            res.append(0)\n",
    "    return np.array(res)"
   ]
  },
  {
   "cell_type": "code",
   "execution_count": 76,
   "metadata": {
    "collapsed": false
   },
   "outputs": [],
   "source": [
    "prediction = predict(model, x, states_map)"
   ]
  },
  {
   "cell_type": "code",
   "execution_count": 77,
   "metadata": {
    "collapsed": false
   },
   "outputs": [
    {
     "data": {
      "text/plain": [
       "0.079660443942221743"
      ]
     },
     "execution_count": 77,
     "metadata": {},
     "output_type": "execute_result"
    }
   ],
   "source": [
    "np.array(prediction).mean()"
   ]
  },
  {
   "cell_type": "code",
   "execution_count": 78,
   "metadata": {
    "collapsed": true
   },
   "outputs": [],
   "source": [
    "HUMAN_PROTEOMS_SIGNAL_PATH = \"../data/proteomes/human_signal.fa\"\n",
    "human_data_signal = [seq for seq in SeqIO.parse(HUMAN_PROTEOMS_SIGNAL_PATH, \"fasta\")]\n"
   ]
  },
  {
   "cell_type": "code",
   "execution_count": 86,
   "metadata": {
    "collapsed": false
   },
   "outputs": [],
   "source": [
    "signal_names = {seq.description for seq in human_data_signal}\n",
    "predicted_names = {seq.description for seq in np.array(human_data)[prediction == 1]}"
   ]
  },
  {
   "cell_type": "code",
   "execution_count": 89,
   "metadata": {
    "collapsed": false
   },
   "outputs": [
    {
     "name": "stdout",
     "output_type": "stream",
     "text": [
      "In predicted in true: 10626\n",
      "Signal peptides not in predicted 2305\n"
     ]
    }
   ],
   "source": [
    "print('In predicted in true:' ,len(signal_names & predicted_names))\n",
    "print('Signal peptides not in predicted', len(signal_names - predicted_names))"
   ]
  },
  {
   "cell_type": "code",
   "execution_count": 64,
   "metadata": {
    "collapsed": true
   },
   "outputs": [],
   "source": [
    "MOUSE_PROTEOMS_PATH = \"../data/proteomes/Mus_musculus.GRCm38.pep.all.fa\""
   ]
  },
  {
   "cell_type": "code",
   "execution_count": 65,
   "metadata": {
    "collapsed": true
   },
   "outputs": [],
   "source": [
    "mouse_data = [seq for seq in SeqIO.parse(MOUSE_PROTEOMS_PATH, \"fasta\")]"
   ]
  },
  {
   "cell_type": "code",
   "execution_count": 66,
   "metadata": {
    "collapsed": false
   },
   "outputs": [
    {
     "data": {
      "text/plain": [
       "0.17854817708333334"
      ]
     },
     "execution_count": 66,
     "metadata": {},
     "output_type": "execute_result"
    }
   ],
   "source": [
    "mouse_x, _, _ = encode_data(mouse_data, symbols_map)\n",
    "mouse_prediction = predict(model, mouse_x, states_map)\n",
    "np.array(mouse_prediction).mean()"
   ]
  },
  {
   "cell_type": "code",
   "execution_count": 69,
   "metadata": {
    "collapsed": false
   },
   "outputs": [
    {
     "data": {
      "text/plain": [
       "18667"
      ]
     },
     "execution_count": 69,
     "metadata": {},
     "output_type": "execute_result"
    }
   ],
   "source": [
    "np.array(prediction).sum()"
   ]
  },
  {
   "cell_type": "code",
   "execution_count": 70,
   "metadata": {
    "collapsed": false
   },
   "outputs": [
    {
     "data": {
      "text/plain": [
       "102821"
      ]
     },
     "execution_count": 70,
     "metadata": {},
     "output_type": "execute_result"
    }
   ],
   "source": [
    "len(prediction)"
   ]
  },
  {
   "cell_type": "code",
   "execution_count": null,
   "metadata": {
    "collapsed": true
   },
   "outputs": [],
   "source": []
  }
 ],
 "metadata": {
  "kernelspec": {
   "display_name": "Python 3",
   "language": "python",
   "name": "python3"
  },
  "language_info": {
   "codemirror_mode": {
    "name": "ipython",
    "version": 3
   },
   "file_extension": ".py",
   "mimetype": "text/x-python",
   "name": "python",
   "nbconvert_exporter": "python",
   "pygments_lexer": "ipython3",
   "version": "3.5.1"
  }
 },
 "nbformat": 4,
 "nbformat_minor": 1
}
